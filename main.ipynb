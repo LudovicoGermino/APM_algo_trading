{
 "cells": [
  {
   "cell_type": "markdown",
   "metadata": {},
   "source": [
    "We should implement and back-test trading algorithms using historical market data.\n",
    "\n",
    "The project is divided into three main strategies:\n",
    "\n",
    "1. Moving Average and Momentum Strategies,\n",
    "2. Value-Based Strategies, and\n",
    "3. Sentiment-Based Strategies."
   ]
  },
  {
   "cell_type": "markdown",
   "metadata": {},
   "source": [
    "Write our own Back Testing Code\n",
    "\n",
    "▪ Back Testing simulates how a trading strategy would have performed in the past using historical data.\n",
    "▪ The purpose is to evaluate the strategy's effectiveness, identify potential issues, and refine it before deploying it in live trading.\n",
    "▪ Here are key components a back-testing code needs to handle:\n",
    "    1. Load up and process price and other data\n",
    "    2. Clean and prepare data\n",
    "    3. Implement logic to buy and sell based on signals\n",
    "    4. Define trades and measure their performance over time\n",
    "    5. Incorporate realistic transaction costs\n",
    "    6. Calculate metrics – return, drawdown, Sharpe ratio etc.…\n",
    "    7. Visualise results"
   ]
  },
  {
   "cell_type": "markdown",
   "metadata": {},
   "source": [
    "Validation and Sanity Checks\n",
    "\n",
    "▪ Out-of-Sample Testing:\n",
    "    ▪ After optimizing the strategy on historical data, test it on a separate dataset (out-of-sample data) to verify its robustness.\n",
    "▪ Sanity Checks:\n",
    "    ▪ Ensure the backtest is realistic (e.g., no future data leakage, no unrealistic execution assumptions) to prevent overestimating the strategy’s performance."
   ]
  },
  {
   "cell_type": "markdown",
   "metadata": {},
   "source": [
    "Strategy 1: Moving Average and Momentum Strategies"
   ]
  },
  {
   "cell_type": "markdown",
   "metadata": {},
   "source": [
    "Rules based Moving average startegy\n",
    "\n",
    "Understand & implement moving average strategies\n",
    "    ▪ Simple Moving Average (SMA)\n",
    "    ▪ Write code that calculates this to different periods\n",
    "\n",
    "Tasks:\n",
    "    1. Implement a strategy where a short-term moving average (e.g., S-day SMA) crosses above or below a long-term moving average (e.g., L-day SMA).\n",
    "    2. Write code to execute buy orders when the short-term average crosses above the long-term average and sell orders when the opposite occurs.\n",
    "    3. Test the algorithm on a broad range of stocks (at least 100) from the S&P index for a range of values of S and L\n",
    "    4. You should report average P&L and variance of P&L for each combination of moving average periods"
   ]
  },
  {
   "cell_type": "markdown",
   "metadata": {},
   "source": [
    "Rules based Momentum startegy\n",
    "\n",
    "Understand the concept of momentum\n",
    "    ▪ Relative Strength Index (RSI)\n",
    "    ▪ Write code to calculate these\n",
    "\n",
    "Tasks:\n",
    "    1. Implement a strategy that buys assets when momentum indicators signal strength (e.g., RSI > 70) and sells when they signal weakness (e.g., RSI < 30).\n",
    "    2. Combine momentum signals with moving averages to enhance the strategy.\n",
    "    3. Test the algorithm on a broad range of stocks (at least 100) from the S&P index\n",
    "    4. You should report average P&L and variance of P&L for each combination of moving average periods\n",
    "    5. Once again try five best combinations of RSI you can find both alone and combined with moving averages"
   ]
  },
  {
   "cell_type": "markdown",
   "metadata": {},
   "source": [
    "ML based Moving average strategy\n",
    "\n",
    "Tasks:\n",
    "    1. Build a Deep Learning model that takes in the stock prices and ML indicators and RSI indicators as features\n",
    "    2. Use a 3-layer neural network (1 hidden layers) where the inputs are the indicators and the output is a buy, sell or hold signal\n",
    "    3. You train it over a subset of the time series\n",
    "    4. You test it on another part of the timeseries\n",
    "    5. See if the changing number of layers or neurons per layer helps\n",
    "    6. Test the algorithm on a broad range of stocks (at least 100) from the S&P index\n",
    "    7. You should report average P&L and variance of P&L"
   ]
  },
  {
   "cell_type": "markdown",
   "metadata": {},
   "source": [
    "ML based Momentum strategy\n",
    "\n",
    "Tasks:\n",
    "    1. Implement a strategy that buys assets when momentum indicators signal strength (e.g., RSI > 70) and sells when they signal weakness (e.g., RSI < 30).\n",
    "    2. Combine momentum signals with moving averages to enhance the strategy.\n",
    "    3. Once again try five best combinations of RSI you can find both alone and combined with moving averages\n",
    "    4. Use a machine learning algorithm with price, and various MA values and RSI as features to see if you can predict buy and sell"
   ]
  },
  {
   "cell_type": "markdown",
   "metadata": {},
   "source": [
    "Strategy 2: Value-Based Strategies"
   ]
  },
  {
   "cell_type": "markdown",
   "metadata": {},
   "source": [
    "Objectives:\n",
    "• Understand fundamental metrics such as P/E ratios, book value\n",
    "• Backtest value-based strategies using historical data.\n",
    "• Evaluate the performance of the strategies.\n",
    "\n",
    "Tasks:\n",
    "    1. Buy stocks with low P/E ratio compared to historical average\n",
    "    2. The Price-to-Book ratio compares a company's market value to its book value (the net asset value on the balance sheet). A low P/B ratio may indicate that the stock is undervalued relative to its assets.\n",
    "    3. Use a machine learning algorithm with price, P/E and PtB values as features to see if you can predict buy and sell"
   ]
  },
  {
   "cell_type": "markdown",
   "metadata": {},
   "source": [
    "Strategy 3: Sentiment-Based Strategies."
   ]
  },
  {
   "cell_type": "markdown",
   "metadata": {},
   "source": [
    "▪ Understand and implement sentiment-based trading strategies.\n",
    "▪ Analyze sentiment data from news articles, social media, and other sources.\n",
    "▪ Backtest sentiment-based strategies using historical sentiment data.\n",
    "▪ Evaluate the performance of sentiment-based strategies.\n",
    "\n",
    "Implement a Sentiment-Based Trading Strategy:\n",
    "    ▪ Develop a strategy that buys stocks with positive sentiment and sells stocks with negative sentiment.\n",
    "    ▪ Experiment with different thresholds for sentiment scores to refine the strategy.\n",
    "    ▪ Combine sentiment analysis with the moving average and value-based strategies from previous sections.\n",
    "    ▪ Explore how sentiment signals can enhance or detract from other strategies.\n",
    "    ▪ Use historical sentiment data alongside market data to backtest the sentiment-based strategy."
   ]
  }
 ],
 "metadata": {
  "kernelspec": {
   "display_name": "base",
   "language": "python",
   "name": "python3"
  },
  "language_info": {
   "name": "python",
   "version": "3.12.4"
  }
 },
 "nbformat": 4,
 "nbformat_minor": 2
}
